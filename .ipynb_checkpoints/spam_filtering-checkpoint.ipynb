{
 "cells": [
  {
   "cell_type": "code",
   "execution_count": 1,
   "metadata": {},
   "outputs": [
    {
     "name": "stderr",
     "output_type": "stream",
     "text": [
      "/usr/local/lib/python3.7/site-packages/sklearn/ensemble/weight_boosting.py:29: DeprecationWarning: numpy.core.umath_tests is an internal NumPy module and should not be imported. It will be removed in a future NumPy release.\n",
      "  from numpy.core.umath_tests import inner1d\n"
     ]
    }
   ],
   "source": [
    "import pandas as pd\n",
    "from sklearn.feature_extraction.text import CountVectorizer\n",
    "from sklearn.pipeline import Pipeline\n",
    "from sklearn.naive_bayes import MultinomialNB\n",
    "from sklearn.svm import LinearSVC\n",
    "from sklearn.ensemble import RandomForestClassifier\n",
    "from sklearn.tree import DecisionTreeClassifier\n",
    "from sklearn.model_selection import train_test_split\n",
    "from sklearn.metrics import confusion_matrix"
   ]
  },
  {
   "cell_type": "code",
   "execution_count": 2,
   "metadata": {},
   "outputs": [],
   "source": [
    "data = pd.read_csv('data.csv')"
   ]
  },
  {
   "cell_type": "code",
   "execution_count": 3,
   "metadata": {},
   "outputs": [],
   "source": [
    "train_data, test_data = train_test_split(data, test_size=0.3)"
   ]
  },
  {
   "cell_type": "code",
   "execution_count": 4,
   "metadata": {},
   "outputs": [],
   "source": [
    "def create_pipeline(classifier):\n",
    "    bag_of_words = CountVectorizer(analyzer='word', stop_words='english', ngram_range=(2, 3))\n",
    "    return Pipeline((\n",
    "        ('bow', bag_of_words),\n",
    "        ('classifier', classifier),\n",
    "    ))"
   ]
  },
  {
   "cell_type": "code",
   "execution_count": 5,
   "metadata": {},
   "outputs": [],
   "source": [
    "def train(name, pipeline):\n",
    "    print('training with %s...' % name)\n",
    "    pipeline.fit(train_data.text, train_data.label)\n",
    "    print('finished')"
   ]
  },
  {
   "cell_type": "code",
   "execution_count": 6,
   "metadata": {},
   "outputs": [],
   "source": [
    "def evaluate(name, pipeline):\n",
    "    print('evaluating %s...' % name)\n",
    "    \n",
    "    prediction = pipeline.predict(test_data.text)\n",
    "    cm = confusion_matrix(test_data.label, prediction)\n",
    "    \n",
    "    TP = cm[1,1]\n",
    "    TN = cm[0,0]\n",
    "    FP = cm[0,1]\n",
    "    FN = cm[1,0]\n",
    "    \n",
    "    print('specifity', TN / (TN+FP))\n",
    "    print('precision', TP / (TP+FP))\n",
    "    print('finished')"
   ]
  },
  {
   "cell_type": "code",
   "execution_count": 7,
   "metadata": {},
   "outputs": [],
   "source": [
    "def execute(name, classifier):\n",
    "    pipeline = create_pipeline(classifier)\n",
    "    train(name, pipeline)\n",
    "    evaluate(name, pipeline)"
   ]
  },
  {
   "cell_type": "code",
   "execution_count": 8,
   "metadata": {},
   "outputs": [
    {
     "name": "stdout",
     "output_type": "stream",
     "text": [
      "training with multinomial_naive_bayes...\n",
      "finished\n",
      "evaluating multinomial_naive_bayes...\n",
      "specifity 0.9551569506726457\n",
      "precision 0.9812382739212008\n",
      "finished\n"
     ]
    }
   ],
   "source": [
    "execute('multinomial_naive_bayes', MultinomialNB())"
   ]
  },
  {
   "cell_type": "code",
   "execution_count": 9,
   "metadata": {},
   "outputs": [
    {
     "name": "stdout",
     "output_type": "stream",
     "text": [
      "training with svm...\n",
      "finished\n",
      "evaluating svm...\n",
      "specifity 0.9641255605381166\n",
      "precision 0.9832635983263598\n",
      "finished\n"
     ]
    }
   ],
   "source": [
    "execute('svm', LinearSVC())"
   ]
  },
  {
   "cell_type": "code",
   "execution_count": 10,
   "metadata": {},
   "outputs": [
    {
     "name": "stdout",
     "output_type": "stream",
     "text": [
      "training with random_forest...\n",
      "finished\n",
      "evaluating random_forest...\n",
      "specifity 0.9775784753363229\n",
      "precision 0.9891067538126361\n",
      "finished\n"
     ]
    }
   ],
   "source": [
    "execute('random_forest', RandomForestClassifier())"
   ]
  },
  {
   "cell_type": "code",
   "execution_count": 11,
   "metadata": {},
   "outputs": [
    {
     "name": "stdout",
     "output_type": "stream",
     "text": [
      "training with decision_tree...\n",
      "finished\n",
      "evaluating decision_tree...\n",
      "specifity 0.9551569506726457\n",
      "precision 0.9801980198019802\n",
      "finished\n"
     ]
    }
   ],
   "source": [
    "execute('decision_tree', DecisionTreeClassifier())"
   ]
  },
  {
   "cell_type": "code",
   "execution_count": null,
   "metadata": {},
   "outputs": [],
   "source": []
  }
 ],
 "metadata": {
  "kernelspec": {
   "display_name": "Python 3",
   "language": "python",
   "name": "python3"
  },
  "language_info": {
   "codemirror_mode": {
    "name": "ipython",
    "version": 3
   },
   "file_extension": ".py",
   "mimetype": "text/x-python",
   "name": "python",
   "nbconvert_exporter": "python",
   "pygments_lexer": "ipython3",
   "version": "3.7.0"
  }
 },
 "nbformat": 4,
 "nbformat_minor": 2
}
